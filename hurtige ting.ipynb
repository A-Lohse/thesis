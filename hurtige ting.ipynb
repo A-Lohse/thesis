{
 "cells": [
  {
   "cell_type": "code",
   "execution_count": 20,
   "id": "agricultural-knitting",
   "metadata": {},
   "outputs": [],
   "source": [
    "import pandas as pd"
   ]
  },
  {
   "cell_type": "code",
   "execution_count": 21,
   "id": "blessed-princess",
   "metadata": {},
   "outputs": [],
   "source": [
    "dataset_august = pd.read_csv(\"cleandata.csv\",index_col=\"Unnamed: 0\")\n"
   ]
  },
  {
   "cell_type": "code",
   "execution_count": 22,
   "id": "mounted-roulette",
   "metadata": {},
   "outputs": [],
   "source": [
    "dataset_mads = pd.read_csv(\"mads_liste.csv\")\n"
   ]
  },
  {
   "cell_type": "code",
   "execution_count": 23,
   "id": "official-video",
   "metadata": {},
   "outputs": [],
   "source": [
    "dataset_mads = dataset_mads['user'].unique()"
   ]
  },
  {
   "cell_type": "code",
   "execution_count": 24,
   "id": "mental-contrast",
   "metadata": {},
   "outputs": [],
   "source": [
    "august_liste = dataset_august['user'].unique() "
   ]
  },
  {
   "cell_type": "code",
   "execution_count": 18,
   "id": "every-hostel",
   "metadata": {},
   "outputs": [],
   "source": [
    "mads_liste = [i.split(\"/\")[-2] for i in dataset_mads]"
   ]
  },
  {
   "cell_type": "code",
   "execution_count": 25,
   "id": "korean-entrepreneur",
   "metadata": {},
   "outputs": [
    {
     "name": "stdout",
     "output_type": "stream",
     "text": [
      "birgitte.vind\n",
      "ftmktm\n",
      "havorla\n",
      "nikolajvillumsen\n"
     ]
    }
   ],
   "source": [
    "for i in august_liste:\n",
    "    if i not in mads_liste:\n",
    "        print(i)"
   ]
  },
  {
   "cell_type": "code",
   "execution_count": 27,
   "id": "stopped-supervision",
   "metadata": {},
   "outputs": [
    {
     "name": "stdout",
     "output_type": "stream",
     "text": [
      "ristianhansbc20\n",
      "stemperlarsen\n",
      "enhedslistens_egge\n",
      "lotterod1\n",
      "tjsilkeborg\n",
      "janjohansenfolketinget\n",
      "kronborg_esbjerg\n",
      "tanjalarsson_socialdemokratiet\n",
      "bjarnelaustsen\n",
      "mfjesper\n",
      "julieskovsby\n",
      "birgittevind\n",
      "inastrojerschmidt\n",
      "carstenkissmeyer\n",
      "kimvalentin2606\n",
      "fatmaoektem\n"
     ]
    }
   ],
   "source": [
    "for i in mads_liste:\n",
    "    if i not in august_liste:\n",
    "        print(i)"
   ]
  },
  {
   "cell_type": "code",
   "execution_count": 28,
   "id": "plain-needle",
   "metadata": {},
   "outputs": [
    {
     "data": {
      "text/plain": [
       "array(['akimati', 'alexvanopslagh', 'andreas.steenberg', 'anehalsboe',\n",
       "       'annehonoreoestergaard', 'annepaulin', 'annesophie.radikale',\n",
       "       'annevalentinaberthelsen', 'annimatthiesen', 'astridcaroe',\n",
       "       'astridkrag', 'bbbrandenborg', 'bennyengelbrecht',\n",
       "       'bertel.haarder', 'birgitte.vind', 'birgittebergman',\n",
       "       'bonnesenerling', 'brigitte_klintskov_jerkel', 'brittbager',\n",
       "       'carl_valentin', 'charlottemolbaek', 'christian.rabjerg',\n",
       "       'christoffermelson', 'danj.klimaminister', 'denhenrikdahl',\n",
       "       'dennisflydtkjaer1', 'elbaekuffe', 'ellentranenorby',\n",
       "       'evaflyvholm_enhedslisten', 'evakjerhansen', 'trine.bramsen',\n",
       "       'ftmktm', 'fugledemads', 'hansandersenmf', 'havorla', 'heidibank',\n",
       "       'idaauken', 'j.h.thulesen.dahl', 'jacobjensen_venstre',\n",
       "       'jacobmarkfolketinget', 'jakobellemann', 'fabricius.camilla',\n",
       "       'jan_e_joergensen', 'janeheitmann', 'jensjoel', 'jeppebruus',\n",
       "       'jerohde', 'juulmona', 'karen.ellemann',\n",
       "       'karina_lorentzen_dehnhardt', 'karinaadsbol', 'karstenlauritzen',\n",
       "       'kaspersandkjaer', 'katarinaammitzboell', 'kathrineolldag',\n",
       "       'katrinerobsoe', 'khegaard', 'khoenge', 'kirstennormann',\n",
       "       'kommune_rune', 'krarupmarie', 'kristianjensenmf',\n",
       "       'kristianthulesendahl', 'kaaredybvad', 'lars_aslan',\n",
       "       'lars_chr_lilleholt', 'larsbojemathiesen', 'larsloekke',\n",
       "       'leawermelin', 'lind_annette', 'lisbethbp', 'lise_bech',\n",
       "       'lorentzenkristian', 'louise_elholm', 'magnusheunicke',\n",
       "       'mai_villadsen', 'maimercado_dk', 'maltelarsen_randers',\n",
       "       'marcus.knuth', 'mariebjerre.dk', 'marleneambo',\n",
       "       'martin.lidegaard', 'mattiastesfaye', 'liselottblixt',\n",
       "       'martinr.geertsen', 'mette', 'mette.abildgaard', 'mette.thiesen',\n",
       "       'mettedencker', 'michaelaastrupjensen', 'misshalimeoguz',\n",
       "       'mogensjensen', 'mortenbodskov', 'mortendahlin',\n",
       "       'mortenoestergaard', 'mrmesserschmidt', 'naserkhaderdk',\n",
       "       'nielsflemming_kons', 'nikolajvillumsen', 'olebirkolesen',\n",
       "       'pernille_skipper', 'pernillevermund', 'peter_seier_christensen',\n",
       "       'peter_skaarup', 'peterhummelgaard', 'piakjaersgaard1',\n",
       "       'piaolsendyhr', 'rasmus_jarlov', 'rasmushelvegpetersen',\n",
       "       'rasmuslanghoff', 'rasmusprehn', 'rnordqvist', 'rosa_lund',\n",
       "       'samiranawa', 'sikandarsiddique_', 'simonemil.ammitzboell',\n",
       "       'simonkollerup', 'sjurdurskaale', 'sofiecarstennielsen',\n",
       "       'sophieloehde', 'soren_pape', 'sossepernille', 'stenknuth',\n",
       "       'stinus.lindgreen', 'stojberginger', 'susannezimmerfriegronne',\n",
       "       'tommyahlers', 'torp71', 'torsten.gejl', 'torstenschackpedersen',\n",
       "       'traktortroels', 'troelsravn1', 'ullatornaes',\n",
       "       'victoria.r.velasquez', 'zenia.stampe', 'aaja_chemnitz'],\n",
       "      dtype=object)"
      ]
     },
     "execution_count": 28,
     "metadata": {},
     "output_type": "execute_result"
    }
   ],
   "source": [
    "august_liste"
   ]
  },
  {
   "cell_type": "code",
   "execution_count": null,
   "id": "interior-blood",
   "metadata": {},
   "outputs": [],
   "source": []
  }
 ],
 "metadata": {
  "kernelspec": {
   "display_name": "Python 3",
   "language": "python",
   "name": "python3"
  },
  "language_info": {
   "codemirror_mode": {
    "name": "ipython",
    "version": 3
   },
   "file_extension": ".py",
   "mimetype": "text/x-python",
   "name": "python",
   "nbconvert_exporter": "python",
   "pygments_lexer": "ipython3",
   "version": "3.8.8"
  }
 },
 "nbformat": 4,
 "nbformat_minor": 5
}
